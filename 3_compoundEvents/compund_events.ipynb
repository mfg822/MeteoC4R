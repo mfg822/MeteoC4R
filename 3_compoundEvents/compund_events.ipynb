{
 "cells": [
  {
   "cell_type": "markdown",
   "metadata": {},
   "source": [
    "# Compound Events"
   ]
  },
  {
   "cell_type": "code",
   "execution_count": 1,
   "metadata": {
    "vscode": {
     "languageId": "r"
    }
   },
   "outputs": [
    {
     "name": "stderr",
     "output_type": "stream",
     "text": [
      "Warning message:\n",
      "\"package 'loadeR' was built under R version 3.6.3\"Loading required package: rJava\n",
      "Warning message:\n",
      "\"package 'rJava' was built under R version 3.6.3\"Loading required package: loadeR.java\n",
      "Warning message:\n",
      "\"package 'loadeR.java' was built under R version 3.6.3\"Java version 21x amd64 by Azul Systems, Inc. detected\n",
      "NetCDF Java Library v4.6.0-SNAPSHOT (23 Apr 2015) loaded and ready\n",
      "Loading required package: climate4R.UDG\n",
      "Warning message:\n",
      "\"package 'climate4R.UDG' was built under R version 3.6.3\"climate4R.UDG version 0.2.6 (2023-06-26) is loaded\n",
      "Please use 'citation(\"climate4R.UDG\")' to cite this package.\n",
      "loadeR version 1.8.1 (2023-06-22) is loaded\n",
      "Please use 'citation(\"loadeR\")' to cite this package.\n",
      "Warning message:\n",
      "\"package 'transformeR' was built under R version 3.6.3\""
     ]
    },
    {
     "name": "stdout",
     "output_type": "stream",
     "text": [
      "\n",
      "    _______   ____  ___________________  __  ________ \n",
      "   / ___/ /  / /  |/  / __  /_  __/ __/ / / / / __  / \n",
      "  / /  / /  / / /|_/ / /_/ / / / / __/ / /_/ / /_/_/  \n",
      " / /__/ /__/ / /  / / __  / / / / /__ /___  / / \\ \\ \n",
      " \\___/____/_/_/  /_/_/ /_/ /_/  \\___/    /_/\\/   \\_\\ \n",
      " \n",
      "      github.com/SantanderMetGroup/climate4R\n",
      "\n"
     ]
    },
    {
     "name": "stderr",
     "output_type": "stream",
     "text": [
      "transformeR version 2.2.2 (2023-10-26) is loaded\n",
      "Please see 'citation(\"transformeR\")' to cite this package.\n",
      "Warning message:\n",
      "\"package 'visualizeR' was built under R version 3.6.3\"visualizeR version 1.6.4 (2023-10-26) is loaded\n",
      "Please see 'citation(\"visualizeR\")' to cite this package.\n"
     ]
    }
   ],
   "source": [
    "library(loadeR)\n",
    "library(transformeR)\n",
    "library(visualizeR)"
   ]
  },
  {
   "cell_type": "markdown",
   "metadata": {},
   "source": [
    "## Import Data"
   ]
  },
  {
   "cell_type": "code",
   "execution_count": 2,
   "metadata": {
    "vscode": {
     "languageId": "r"
    }
   },
   "outputs": [],
   "source": [
    "pr10 <- readRDS(\"../2_binary/pr10_h_bin.rds\")\n",
    "tmax90 <- readRDS(\"../2_binary/tmax90_bin.rds\")"
   ]
  },
  {
   "cell_type": "code",
   "execution_count": 3,
   "metadata": {
    "vscode": {
     "languageId": "r"
    }
   },
   "outputs": [],
   "source": [
    "pr0.1 <- readRDS(\"../binary/pr_bin_0.1.rds\")\n",
    "tmax30 <- readRDS(\"../binary/tmax_bin_30.rds\")"
   ]
  },
  {
   "cell_type": "markdown",
   "metadata": {},
   "source": [
    "## Function"
   ]
  },
  {
   "cell_type": "markdown",
   "metadata": {},
   "source": [
    "The function `compound_event`, iter over the years and seasons of the two dataset (grids) binarize and execute the function *gridArithmetics* to obtain the compound events in each grid por each day, season and year."
   ]
  },
  {
   "cell_type": "code",
   "execution_count": 3,
   "metadata": {
    "vscode": {
     "languageId": "r"
    }
   },
   "outputs": [],
   "source": [
    "# Create a function that iter over the years and seasons of two datagrids and execute the function gridArithmetics\n",
    "compound_event <- function(grid1, grid2) {\n",
    "  grid3 <- grid1\n",
    "  # Iterate over the years in the grid\n",
    "  for (year in names(grid1)) {\n",
    "    # Iterate over the seasons in each year\n",
    "    for (season in names(grid1[[year]])) {\n",
    "      # Get the data of the current season\n",
    "      season_data1 <- grid1[[year]][[season]]\n",
    "      season_data2 <- grid2[[year]][[season]]\n",
    "      # Apply the function to the data\n",
    "      event_compount <- gridArithmetics(season_data1, season_data2, operator = \"*\")\n",
    "      # Update the data grid with the result\n",
    "      grid3[[year]][[season]] <- event_compount\n",
    "    }\n",
    "  }\n",
    "  # Return the updated grid\n",
    "  return(grid3)\n",
    "}"
   ]
  },
  {
   "cell_type": "code",
   "execution_count": 4,
   "metadata": {
    "vscode": {
     "languageId": "r"
    }
   },
   "outputs": [],
   "source": [
    "CE_10 <- compound_event(pr10, tmax90)"
   ]
  },
  {
   "cell_type": "code",
   "execution_count": 5,
   "metadata": {
    "vscode": {
     "languageId": "r"
    }
   },
   "outputs": [],
   "source": [
    "saveRDS(CE_10, \"CE10_h_bis.rds\", compress = \"xz\")"
   ]
  },
  {
   "cell_type": "code",
   "execution_count": 4,
   "metadata": {
    "vscode": {
     "languageId": "r"
    }
   },
   "outputs": [],
   "source": [
    "prueba <- function(grid_data1, grid_data2) {\n",
    "  # Iterate over the years in the data grid\n",
    "  for (year in names(grid_data1)) {\n",
    "    # Iterate over the seasons of each year\n",
    "    for (season in names(grid_data1[[year]])) {\n",
    "      # Get current station data\n",
    "      season_data1 <- grid_data1[[year]][[season]]\n",
    "      season_data2 <- grid_data2[[year]][[season]]\n",
    "      \n",
    "      # Dimension of the data\n",
    "      dims <- dim(season_data1$Data)\n",
    "      \n",
    "      # Iterate over dimensions and perform element-wise multiplication\n",
    "      for (a in 1:dims[1]) {\n",
    "        for (i in 1:dims[2]) {\n",
    "          for (j in 1:dims[3]) {\n",
    "            if (!is.na(season_data1$Data[a, i, j]) && !is.na(season_data2$Data[a, i, j])) {\n",
    "              season_data1$Data[a, i, j] <- season_data1$Data[a, i, j] * season_data2$Data[a, i, j]\n",
    "            }\n",
    "          }\n",
    "        }\n",
    "      }\n",
    "      \n",
    "      # Update the data grid with the multiplied values\n",
    "      grid_data1[[year]][[season]] <- season_data1\n",
    "    }\n",
    "  }\n",
    "  \n",
    "  # Return the updated grid\n",
    "  return(grid_data1)\n",
    "}\n"
   ]
  },
  {
   "cell_type": "markdown",
   "metadata": {},
   "source": [
    "## Calculate"
   ]
  },
  {
   "cell_type": "markdown",
   "metadata": {},
   "source": [
    "### Done"
   ]
  },
  {
   "cell_type": "code",
   "execution_count": 4,
   "metadata": {
    "vscode": {
     "languageId": "r"
    }
   },
   "outputs": [],
   "source": [
    "CE_pr10_tmax90 <- compound_event(pr10, tmax90)"
   ]
  },
  {
   "cell_type": "code",
   "execution_count": 5,
   "metadata": {
    "vscode": {
     "languageId": "r"
    }
   },
   "outputs": [],
   "source": [
    "saveRDS(CE_pr10_tmax90, \"CE_pr10_tmax90.rds\", compress = 'xz')"
   ]
  }
 ],
 "metadata": {
  "kernelspec": {
   "display_name": "R",
   "language": "R",
   "name": "ir"
  },
  "language_info": {
   "codemirror_mode": "r",
   "file_extension": ".r",
   "mimetype": "text/x-r-source",
   "name": "R",
   "pygments_lexer": "r",
   "version": "3.6.1"
  }
 },
 "nbformat": 4,
 "nbformat_minor": 2
}
